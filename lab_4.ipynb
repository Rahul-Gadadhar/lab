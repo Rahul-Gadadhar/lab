{
  "nbformat": 4,
  "nbformat_minor": 0,
  "metadata": {
    "colab": {
      "provenance": [],
      "authorship_tag": "ABX9TyPEmzqCzMDeZbHeh77arC4B",
      "include_colab_link": true
    },
    "kernelspec": {
      "name": "python3",
      "display_name": "Python 3"
    },
    "language_info": {
      "name": "python"
    }
  },
  "cells": [
    {
      "cell_type": "markdown",
      "metadata": {
        "id": "view-in-github",
        "colab_type": "text"
      },
      "source": [
        "<a href=\"https://colab.research.google.com/github/Rahul-Gadadhar/lab/blob/main/lab_4.ipynb\" target=\"_parent\"><img src=\"https://colab.research.google.com/assets/colab-badge.svg\" alt=\"Open In Colab\"/></a>"
      ]
    },
    {
      "cell_type": "code",
      "execution_count": null,
      "metadata": {
        "id": "Nh_QvIzVK1wF"
      },
      "outputs": [],
      "source": [
        "#4. Python Program for DNS using UDP Sockets.\n",
        "\n",
        "\n",
        "A Record: It is fundamental type of DNS record, here A stands for address. It shows the IP\n",
        "address of the domain.\n",
        "\n",
        "import dns.resolver\n",
        "result = dns.resolver.query('srmeaswari.edu.in’, 'A')\n",
        "for val in result:\n",
        "    print('A Record : ', val.to_text())\n",
        "\n",
        "#Output:\n",
        "#A Record : 34.218.62.116\n",
        "\n",
        "\n",
        "\n",
        "AAAA Record: This is an IP address record, used to find the IP of the computer connected\n",
        "to the domain. It is conceptually similar to A record but specifies only the IPv6 address of the\n",
        "server rather than IPv4.\n",
        "\n",
        "import dns.resolver\n",
        "result = dns.resolver.query(' srmeaswari.edu.in’, 'AAAA')\n",
        "for val in result:\n",
        "    print('AAAA Record : ', ipval.to_text())\n",
        "\n",
        "#Output:\n",
        "#NoAnswer: The DNS response does not contain an answer to the question\n",
        "\n",
        "\n",
        "\n",
        "PTR Record: PTR stands for pointer record, used to translate IP addresses to the domain\n",
        "name or hostname. It is used to reverse the DNS lookup.\n",
        "\n",
        "import dns.resolver\n",
        "result = dns.resolver.query('116.62.218.34.in-addr.arpa', 'PTR')\n",
        "for val in result:\n",
        "    print('PTR Record : ', val.to_text())\n",
        "\n",
        "#Output:\n",
        "#PTR Record : ec2-34-218-62-116.us-west-2.compute.amazonaws.com.\n",
        "\n",
        "\n",
        "\n",
        "NS Record: Nameserver(NS) record gives information that which server is\n",
        "authoritative for the given domain i.e. which server has the actual DNS records.\n",
        "Multiple NS records are possible for a domain including the primary and the backup\n",
        "name servers.\n",
        "\n",
        "import dns.resolver\n",
        "result = dns.resolver.query('geeksforgeeks.org', 'NS')\n",
        "for val in result:\n",
        "    print('NS Record : ', val.to_text())\n",
        "\n",
        "#Output:\n",
        "#NS Record : ns-1520.awsdns-62.org.\n",
        "#NS Record : ns-1569.awsdns-04.co.uk.\n",
        "#NS Record : ns-245.awsdns-30.com.\n",
        "#NS Record : ns-869.awsdns-44.net."
      ]
    }
  ]
}