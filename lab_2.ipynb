{
  "nbformat": 4,
  "nbformat_minor": 0,
  "metadata": {
    "colab": {
      "provenance": [],
      "authorship_tag": "ABX9TyMrmVxhOHOmCmzOa5caHcLD",
      "include_colab_link": true
    },
    "kernelspec": {
      "name": "python3",
      "display_name": "Python 3"
    },
    "language_info": {
      "name": "python"
    }
  },
  "cells": [
    {
      "cell_type": "markdown",
      "metadata": {
        "id": "view-in-github",
        "colab_type": "text"
      },
      "source": [
        "<a href=\"https://colab.research.google.com/github/Rahul-Gadadhar/lab/blob/main/lab_2.ipynb\" target=\"_parent\"><img src=\"https://colab.research.google.com/assets/colab-badge.svg\" alt=\"Open In Colab\"/></a>"
      ]
    },
    {
      "cell_type": "code",
      "execution_count": null,
      "metadata": {
        "id": "4BtB378SCHs5"
      },
      "outputs": [],
      "source": [
        "#Python Program for Chat Program using TCP Socket.\n",
        "\n",
        "#SERVER PROGRAM:\n",
        "\n",
        "import socket\n",
        "import select\n",
        "import sys\n",
        "from thread import *\n",
        "\n",
        "server = socket.socket(socket.AF_INET, socket.SOCK_STREAM)\n",
        "server.setsockopt(socket.SOL_SOCKET, socket.SO_REUSEADDR, 1)\n",
        "\n",
        "if len(sys.argv) != 3:\n",
        "    print (\"Correct usage: script, IP address, port number\")\n",
        "    exit()\n",
        "\n",
        "IP_address = str(sys.argv[1])\n",
        "Port = int(sys.argv[2])\n",
        "server.bind((IP_address, Port))\n",
        "server.listen(100)\n",
        "list_of_clients = []\n",
        "\n",
        "def clientthread(conn, addr):\n",
        "    conn.send(\"Welcome to this chatroom!\")\n",
        "\n",
        "    while True:\n",
        "        try:\n",
        "            message = conn.recv(2048)\n",
        "            if message:\n",
        "                print (\"<\" + addr[0] + \"> \" + message)\n",
        "                message_to_send = \"<\" + addr[0] + \"> \" + message\n",
        "                broadcast(message_to_send, conn)\n",
        "            else:\n",
        "                remove(conn)\n",
        "        except:\n",
        "            continue\n",
        "\n",
        "def broadcast(message, connection):\n",
        "    for clients in list_of_clients:\n",
        "        if clients!=connection:\n",
        "            try:\n",
        "                clients.send(message)\n",
        "            except:\n",
        "                clients.close()\n",
        "                remove(clients)\n",
        "\n",
        "def remove(connection):\n",
        "    if connection in list_of_clients:\n",
        "        list_of_clients.remove(connection)\n",
        "\n",
        "while True:\n",
        "   conn, addr = server.accept()\n",
        "   list_of_clients.append(conn)\n",
        "   print (addr[0] + \" connected\")\n",
        "   start_new_thread(clientthread,(conn,addr))\n",
        "\n",
        "conn.close()\n",
        "server.close()\n",
        "\n",
        "\n",
        "#CLIENT PROGRAM:\n",
        "\n",
        "\n",
        "import socket\n",
        "import select\n",
        "import sys\n",
        "server = socket.socket(socket.AF_INET, socket.SOCK_STREAM)\n",
        "if len(sys.argv) != 3:\n",
        "    print (\"Correct usage: script, IP address, port number\")\n",
        "    exit()\n",
        "IP_address = str(sys.argv[1])\n",
        "Port = int(sys.argv[2])\n",
        "server.connect((IP_address, Port))\n",
        "while True:\n",
        "    sockets_list = [sys.stdin, server]\n",
        "    read_sockets,write_socket, error_socket = select.select(sockets_list,[],[])\n",
        "    for socks in read_sockets:\n",
        "        if socks == server:\n",
        "            message = socks.recv(2048)\n",
        "            print (message)\n",
        "        else:\n",
        "            message = sys.stdin.readline()\n",
        "            server.send(message)\n",
        "            sys.stdout.write(\"<You>\")\n",
        "            sys.stdout.write(message)\n",
        "            sys.stdout.flush()\n",
        "server.close()"
      ]
    }
  ]
}